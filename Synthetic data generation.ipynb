{
 "cells": [
  {
   "cell_type": "markdown",
   "metadata": {},
   "source": [
    "# Synthetic data generation "
   ]
  },
  {
   "cell_type": "markdown",
   "metadata": {},
   "source": [
    "### 1. Artificial Neural Networks"
   ]
  },
  {
   "cell_type": "markdown",
   "metadata": {},
   "source": [
    "#### Recurrent Neural Networks / LSTM\n",
    "Reccurent neural networks (RNN) are a type of neural networks build on feed-back cycle units.<br>\n",
    "This aspect allows RNN to hold informations about previous inputs in each artificial neuron's hidden internal state memory. This is mostly why RNN are suitable for handling tasks dealing with sequential data inputs (time-series). <br>"
   ]
  },
  {
   "cell_type": "markdown",
   "metadata": {},
   "source": [
    "Pros : <br>\n",
    "- Allows to recreate a data without losing statistical features.\n",
    "\n",
    "Cons : <br>\n",
    "- Tend to stick too much to the original data."
   ]
  },
  {
   "cell_type": "markdown",
   "metadata": {},
   "source": [
    "In [2] Alzantot et al. present the fact that this kind of neural network can perfectly be used as generative models to increase the size of a dataset without sticking to the original by combining it to another model. Their model is composed by 3 layers of 256 LSTM units. The output of the last layer is feed into a fully connected layer with 128 units with sigmoid activations. That fully connected layer is followed by another layer of the same type with 72 output units. The ouputs of that previous layer are used as the weights and parameters of the output of a **Gaussian Mixture Model (GMM)**."
   ]
  },
  {
   "cell_type": "markdown",
   "metadata": {},
   "source": [
    "### 2. Data Augmentation"
   ]
  },
  {
   "cell_type": "markdown",
   "metadata": {},
   "source": [
    "#### Time-Warping\n",
    "Time-warping is a way to perturb the temporal location of one or more samples.<br>\n",
    "It can also be used to distort the time-series to make an event last longer."
   ]
  },
  {
   "cell_type": "markdown",
   "metadata": {},
   "source": [
    "#### Window Slicing\n",
    "At training, each slice extracted from a time series of class y is assigned the same class <br>\n",
    "and a classifier is learned using the slices. The size of the slice is a parameter of this method.<br>\n",
    "At test time, each slice from a test time series is classified using the learned classifier and a <br>\n",
    "majority vote is performed to decide a predicted label."
   ]
  },
  {
   "cell_type": "markdown",
   "metadata": {},
   "source": [
    "#### Noise\n",
    "Most classifiers are capable of learning output functions that can change wildly with small <br>\n",
    "changes in the input data. Adding noise is a way to prevent that by letting the classifier know <br>\n",
    "that it doesn't have to change the output in a ball around the exact input value.\n",
    "This allows to prevent overfitting. <br>\n",
    "The process of creating new \"noisy\" time-series can be seen as data augmentation because <br>\n",
    "it will give the model more examples of data to generalize."
   ]
  },
  {
   "cell_type": "markdown",
   "metadata": {},
   "source": [
    "#### Rotation\n",
    "Rotating a time-series can be used as a trick to simulate different sensor orientations.\n",
    "It can also be seen as a technique to simulate malfunctional sensors retrieving negative values <br>\n",
    "when we're only waiting for positive ones."
   ]
  },
  {
   "cell_type": "markdown",
   "metadata": {},
   "source": [
    "#### Permutation\n",
    "Permutation is a simple way to randomly perturb the temporal location of within-window events. <br>\n",
    "To perturb the location of the data in a single window, we  rst slice the data into N same length <br>\n",
    "segments, with N ranging from 1 to 5, and randomly permute the segments to create a new window."
   ]
  },
  {
   "cell_type": "markdown",
   "metadata": {},
   "source": [
    "#### Scaling\n",
    "Small change in the time-series magnitude may preserve the labels. <br>\n",
    "Scaling changes the magnitude of the data in a window by multiplying it by a random scalar."
   ]
  },
  {
   "cell_type": "markdown",
   "metadata": {},
   "source": [
    "#### Magnitude-Warping\n",
    "Magnitude-warping is similar to scaling but it uses a smooth curve varying around one <br>\n",
    "to create changes in the time-series magnitude."
   ]
  },
  {
   "cell_type": "markdown",
   "metadata": {},
   "source": [
    "#### Jiterring\n",
    "Jiterring is another way to simulate the addition of noise in a time-series."
   ]
  },
  {
   "cell_type": "markdown",
   "metadata": {},
   "source": [
    "#### Cropping\n",
    "Similar to image cropping or window slicing, cropping is applied for diminishing<br>\n",
    "the dependency on event locations. However, it can capture an event-free region, which might change the <br>\n",
    "label given to the time-series."
   ]
  },
  {
   "cell_type": "markdown",
   "metadata": {},
   "source": [
    "----------------------\n",
    "**REFERENCES.**<br>\n",
    "A. Le Guennec, S. Malinowski, et R. Tavenard, « Data Augmentation for Time Series Classification using Convolutional Neural Networks », Rennes 2, 2016.<br><br>\n",
    "T. T. Um, F. M. J. Pfister, D. Pichler, S. Endo, U. Fietzek, et D. Kulic, « Data Augmentation of Wearable Sensor Data for Parkinson’s Disease Monitoring using Convolutional Neural Networks », Waterloo, Munchen, Munich, Schön Klinik München Schwabing, 2017.<br><br>\n",
    "[2]M. Alzantot, S. Chakraborty, et M. Srivastava, « SenseGen: A Deep Learning Architecture for Synthetic Sensor Data Generation », UCLA, IBM Research Center, 2017.\n",
    "\n",
    "\n"
   ]
  },
  {
   "cell_type": "code",
   "execution_count": null,
   "metadata": {},
   "outputs": [],
   "source": []
  }
 ],
 "metadata": {
  "kernelspec": {
   "display_name": "Python 2",
   "language": "python",
   "name": "python2"
  },
  "language_info": {
   "codemirror_mode": {
    "name": "ipython",
    "version": 2
   },
   "file_extension": ".py",
   "mimetype": "text/x-python",
   "name": "python",
   "nbconvert_exporter": "python",
   "pygments_lexer": "ipython2",
   "version": "2.7.14"
  }
 },
 "nbformat": 4,
 "nbformat_minor": 2
}
